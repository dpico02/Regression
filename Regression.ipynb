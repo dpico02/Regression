{
 "cells": [
  {
   "cell_type": "markdown",
   "metadata": {},
   "source": [
    "## Exploring Regression"
   ]
  },
  {
   "cell_type": "markdown",
   "metadata": {},
   "source": [
    "To begin this notebook, I will start loading the processed dataset in the notebook about exploration"
   ]
  },
  {
   "cell_type": "code",
   "execution_count": 133,
   "metadata": {},
   "outputs": [
    {
     "data": {
      "text/html": [
       "<div>\n",
       "<style scoped>\n",
       "    .dataframe tbody tr th:only-of-type {\n",
       "        vertical-align: middle;\n",
       "    }\n",
       "\n",
       "    .dataframe tbody tr th {\n",
       "        vertical-align: top;\n",
       "    }\n",
       "\n",
       "    .dataframe thead th {\n",
       "        text-align: right;\n",
       "    }\n",
       "</style>\n",
       "<table border=\"1\" class=\"dataframe\">\n",
       "  <thead>\n",
       "    <tr style=\"text-align: right;\">\n",
       "      <th></th>\n",
       "      <th>ID</th>\n",
       "      <th>Address</th>\n",
       "      <th>Incident Date</th>\n",
       "      <th>City</th>\n",
       "      <th>ZIP Code</th>\n",
       "      <th>Battalion</th>\n",
       "      <th>Station Area</th>\n",
       "      <th>Suppression Units</th>\n",
       "      <th>Suppression Personnel</th>\n",
       "      <th>Response Time</th>\n",
       "      <th>FireEx Time</th>\n",
       "    </tr>\n",
       "  </thead>\n",
       "  <tbody>\n",
       "    <tr>\n",
       "      <th>0</th>\n",
       "      <td>201046680</td>\n",
       "      <td>MARIPOSA STREET</td>\n",
       "      <td>2020-09-11</td>\n",
       "      <td>San Francisco</td>\n",
       "      <td>94107.0</td>\n",
       "      <td>B03</td>\n",
       "      <td>37</td>\n",
       "      <td>2</td>\n",
       "      <td>9</td>\n",
       "      <td>300.0</td>\n",
       "      <td>1743.0</td>\n",
       "    </tr>\n",
       "    <tr>\n",
       "      <th>1</th>\n",
       "      <td>201047080</td>\n",
       "      <td>355 27TH STREET</td>\n",
       "      <td>2020-09-11</td>\n",
       "      <td>San Francisco</td>\n",
       "      <td>94131.0</td>\n",
       "      <td>B06</td>\n",
       "      <td>11</td>\n",
       "      <td>3</td>\n",
       "      <td>10</td>\n",
       "      <td>106.0</td>\n",
       "      <td>1044.0</td>\n",
       "    </tr>\n",
       "    <tr>\n",
       "      <th>2</th>\n",
       "      <td>201046480</td>\n",
       "      <td>2048 POLK STREET</td>\n",
       "      <td>2020-09-10</td>\n",
       "      <td>San Francisco</td>\n",
       "      <td>94109.0</td>\n",
       "      <td>B04</td>\n",
       "      <td>41</td>\n",
       "      <td>3</td>\n",
       "      <td>11</td>\n",
       "      <td>209.0</td>\n",
       "      <td>265.0</td>\n",
       "    </tr>\n",
       "  </tbody>\n",
       "</table>\n",
       "</div>"
      ],
      "text/plain": [
       "          ID           Address Incident Date           City ZIP Code  \\\n",
       "0  201046680   MARIPOSA STREET    2020-09-11  San Francisco  94107.0   \n",
       "1  201047080   355 27TH STREET    2020-09-11  San Francisco  94131.0   \n",
       "2  201046480  2048 POLK STREET    2020-09-10  San Francisco  94109.0   \n",
       "\n",
       "  Battalion Station Area  Suppression Units  Suppression Personnel  \\\n",
       "0       B03           37                  2                      9   \n",
       "1       B06           11                  3                     10   \n",
       "2       B04           41                  3                     11   \n",
       "\n",
       "   Response Time  FireEx Time  \n",
       "0          300.0       1743.0  \n",
       "1          106.0       1044.0  \n",
       "2          209.0        265.0  "
      ]
     },
     "execution_count": 133,
     "metadata": {},
     "output_type": "execute_result"
    }
   ],
   "source": [
    "import pandas as pd\n",
    "import numpy as np\n",
    "import matplotlib.pyplot as plt\n",
    "%matplotlib inline\n",
    "\n",
    "df_firecalls = pd.read_csv('firecalls-sf-clean.csv', dtype= {'ZIP Code': str,'Station Area': str})\n",
    "df_firecalls.head(3)"
   ]
  },
  {
   "cell_type": "code",
   "execution_count": 134,
   "metadata": {},
   "outputs": [
    {
     "data": {
      "text/plain": [
       "ID                       0\n",
       "Address                  0\n",
       "Incident Date            0\n",
       "City                     0\n",
       "ZIP Code                 0\n",
       "Battalion                0\n",
       "Station Area             0\n",
       "Suppression Units        0\n",
       "Suppression Personnel    0\n",
       "Response Time            0\n",
       "FireEx Time              0\n",
       "dtype: int64"
      ]
     },
     "execution_count": 134,
     "metadata": {},
     "output_type": "execute_result"
    }
   ],
   "source": [
    "df_firecalls.isnull().sum()"
   ]
  },
  {
   "cell_type": "code",
   "execution_count": 135,
   "metadata": {},
   "outputs": [
    {
     "data": {
      "text/plain": [
       "ID                         int64\n",
       "Address                   object\n",
       "Incident Date             object\n",
       "City                      object\n",
       "ZIP Code                  object\n",
       "Battalion                 object\n",
       "Station Area              object\n",
       "Suppression Units          int64\n",
       "Suppression Personnel      int64\n",
       "Response Time            float64\n",
       "FireEx Time              float64\n",
       "dtype: object"
      ]
     },
     "execution_count": 135,
     "metadata": {},
     "output_type": "execute_result"
    }
   ],
   "source": [
    "df_firecalls.dtypes"
   ]
  },
  {
   "cell_type": "markdown",
   "metadata": {},
   "source": [
    "In this dataset we have some categorical and some numerical columns, let´s use a Columntransformer to do one hot encoding and to scale the numerical values and then process our data. We will explore two type of regressors, a linear and a boosted one, but first let's drop some redundant columns, and others that have no impact in our model."
   ]
  },
  {
   "cell_type": "code",
   "execution_count": 136,
   "metadata": {},
   "outputs": [],
   "source": [
    "df_firecalls.drop([\"Address\", \"ID\", \"Incident Date\"], axis=1, inplace= True)"
   ]
  },
  {
   "cell_type": "markdown",
   "metadata": {},
   "source": [
    "And split our dataset in training and test set. Our target variable is going to be Response Time."
   ]
  },
  {
   "cell_type": "code",
   "execution_count": 137,
   "metadata": {},
   "outputs": [],
   "source": [
    "from sklearn.model_selection import train_test_split\n",
    "X = df_firecalls.drop('Response Time', axis =1)\n",
    "y = df_firecalls['Response Time']\n",
    "\n",
    "\n",
    "# Splitting the data\n",
    "x_train, x_test, y_train, y_test = train_test_split(X, y, test_size=0.33, random_state=42)"
   ]
  },
  {
   "cell_type": "markdown",
   "metadata": {},
   "source": [
    "Now the pipeline:"
   ]
  },
  {
   "cell_type": "code",
   "execution_count": 138,
   "metadata": {},
   "outputs": [],
   "source": [
    "from sklearn.preprocessing import StandardScaler, OneHotEncoder\n",
    "from sklearn.compose import ColumnTransformer\n",
    "from sklearn.pipeline import Pipeline\n",
    "from sklearn.linear_model import LinearRegression\n",
    "from sklearn.ensemble import GradientBoostingRegressor\n",
    "\n",
    "#Define preprocessing for numeric columns (scale them) and categorical columns (one hot encoding)\n",
    "\n",
    "numeric_columns = ['Suppression Units', 'Suppression Personnel', 'FireEx Time']\n",
    "categorical_features = ['City', 'ZIP Code' ,'Battalion', 'Station Area']\n",
    "\n",
    "preprocessor = ColumnTransformer(\n",
    "    transformers=[('num', StandardScaler(), numeric_columns),\n",
    "                  ('categorical',OneHotEncoder(handle_unknown='ignore'),categorical_features)])\n",
    "\n",
    "#processing dataset\n",
    "\n",
    "x_train = preprocessor.fit_transform(x_train)\n",
    "x_test = preprocessor.transform(x_test)\n",
    "\n",
    "#training both models\n",
    "\n",
    "model_reg  = LinearRegression().fit(x_train, (y_train))\n",
    "model_boost = GradientBoostingRegressor().fit(x_train, y_train)\n"
   ]
  },
  {
   "cell_type": "markdown",
   "metadata": {},
   "source": [
    "Now, let's test both models with the test set and check the results."
   ]
  },
  {
   "cell_type": "code",
   "execution_count": 139,
   "metadata": {},
   "outputs": [
    {
     "name": "stdout",
     "output_type": "stream",
     "text": [
      "Regressor model\n",
      "MSE =  10814.97317407259\n",
      "RMSE =  103.99506321971533\n",
      "R2 =  0.11723454501555841\n"
     ]
    },
    {
     "data": {
      "image/png": "[encoded data removed]",
      "text/plain": [
       "<Figure size 640x480 with 1 Axes>"
      ]
     },
     "metadata": {},
     "output_type": "display_data"
    },
    {
     "name": "stdout",
     "output_type": "stream",
     "text": [
      "GradientBoosting model\n",
      "MSE =  10223.932104622945\n",
      "RMSE =  101.11346154010822\n",
      "R2 =  0.16547790449406652\n"
     ]
    },
    {
     "data": {
      "image/png": "[encoded data removed]",
      "text/plain": [
       "<Figure size 640x480 with 1 Axes>"
      ]
     },
     "metadata": {},
     "output_type": "display_data"
    }
   ],
   "source": [
    "from sklearn.metrics import mean_squared_error, r2_score\n",
    "\n",
    "def test_model(model, x_test, y_test, type = 'str'):\n",
    "    predictions = model.predict(x_test)\n",
    "    # computing the mean squared error\n",
    "    mse = mean_squared_error(y_test, predictions)\n",
    "    print(type)\n",
    "    print(\"MSE = \",mse)\n",
    "    # computing the root mean squared error\n",
    "    rmse = np.sqrt(mse)\n",
    "    print(\"RMSE = \",rmse)\n",
    "    # computing the root mean squared error\n",
    "    r2 = r2_score(y_test, predictions)\n",
    "    print(\"R2 = \",r2)\n",
    "\n",
    "    #do a scatterplot of the predictions vs the test set\n",
    "    plt.scatter(y_test[:100], predictions[:100])\n",
    "    plt.xlabel(\"Labels\")\n",
    "    plt.ylabel(\"Predictions\")\n",
    "    plt.title(type)\n",
    "    z = np.polyfit(y_test[:100], predictions[:100], 1)\n",
    "    p = np.poly1d(z)\n",
    "    plt.plot(y_test[:100],p(y_test[:100]), color='red')\n",
    "    plt.show()\n",
    "    return None\n",
    "\n",
    "test_model(model_reg , x_test, y_test, 'Regressor model')\n",
    "test_model(model_boost , x_test, y_test, 'GradientBoosting model')"
   ]
  },
  {
   "cell_type": "markdown",
   "metadata": {},
   "source": [
    "Although the Gradientboostingmethod performs better than the LinearRegressor, neither model is a good fit for the data, and that can be checked with an autocorrelation of the variables."
   ]
  },
  {
   "cell_type": "code",
   "execution_count": 140,
   "metadata": {},
   "outputs": [
    {
     "data": {
      "text/html": [
       "<div>\n",
       "<style scoped>\n",
       "    .dataframe tbody tr th:only-of-type {\n",
       "        vertical-align: middle;\n",
       "    }\n",
       "\n",
       "    .dataframe tbody tr th {\n",
       "        vertical-align: top;\n",
       "    }\n",
       "\n",
       "    .dataframe thead th {\n",
       "        text-align: right;\n",
       "    }\n",
       "</style>\n",
       "<table border=\"1\" class=\"dataframe\">\n",
       "  <thead>\n",
       "    <tr style=\"text-align: right;\">\n",
       "      <th></th>\n",
       "      <th>City</th>\n",
       "      <th>ZIP Code</th>\n",
       "      <th>Battalion</th>\n",
       "      <th>Station Area</th>\n",
       "      <th>Suppression Units</th>\n",
       "      <th>Suppression Personnel</th>\n",
       "      <th>Response Time</th>\n",
       "      <th>FireEx Time</th>\n",
       "    </tr>\n",
       "  </thead>\n",
       "  <tbody>\n",
       "    <tr>\n",
       "      <th>City</th>\n",
       "      <td>1.000000</td>\n",
       "      <td>-0.013861</td>\n",
       "      <td>-0.113303</td>\n",
       "      <td>-0.011077</td>\n",
       "      <td>-0.020283</td>\n",
       "      <td>-0.015560</td>\n",
       "      <td>-0.027193</td>\n",
       "      <td>-0.001836</td>\n",
       "    </tr>\n",
       "    <tr>\n",
       "      <th>ZIP Code</th>\n",
       "      <td>-0.013861</td>\n",
       "      <td>1.000000</td>\n",
       "      <td>0.508560</td>\n",
       "      <td>0.156460</td>\n",
       "      <td>-0.080522</td>\n",
       "      <td>-0.125378</td>\n",
       "      <td>0.089614</td>\n",
       "      <td>0.085776</td>\n",
       "    </tr>\n",
       "    <tr>\n",
       "      <th>Battalion</th>\n",
       "      <td>-0.113303</td>\n",
       "      <td>0.508560</td>\n",
       "      <td>1.000000</td>\n",
       "      <td>0.230318</td>\n",
       "      <td>-0.140284</td>\n",
       "      <td>-0.196736</td>\n",
       "      <td>0.119219</td>\n",
       "      <td>0.080461</td>\n",
       "    </tr>\n",
       "    <tr>\n",
       "      <th>Station Area</th>\n",
       "      <td>-0.011077</td>\n",
       "      <td>0.156460</td>\n",
       "      <td>0.230318</td>\n",
       "      <td>1.000000</td>\n",
       "      <td>-0.038586</td>\n",
       "      <td>-0.075737</td>\n",
       "      <td>0.042395</td>\n",
       "      <td>0.051381</td>\n",
       "    </tr>\n",
       "    <tr>\n",
       "      <th>Suppression Units</th>\n",
       "      <td>-0.020283</td>\n",
       "      <td>-0.080522</td>\n",
       "      <td>-0.140284</td>\n",
       "      <td>-0.038586</td>\n",
       "      <td>1.000000</td>\n",
       "      <td>0.946652</td>\n",
       "      <td>-0.113772</td>\n",
       "      <td>0.071206</td>\n",
       "    </tr>\n",
       "    <tr>\n",
       "      <th>Suppression Personnel</th>\n",
       "      <td>-0.015560</td>\n",
       "      <td>-0.125378</td>\n",
       "      <td>-0.196736</td>\n",
       "      <td>-0.075737</td>\n",
       "      <td>0.946652</td>\n",
       "      <td>1.000000</td>\n",
       "      <td>-0.153253</td>\n",
       "      <td>-0.006320</td>\n",
       "    </tr>\n",
       "    <tr>\n",
       "      <th>Response Time</th>\n",
       "      <td>-0.027193</td>\n",
       "      <td>0.089614</td>\n",
       "      <td>0.119219</td>\n",
       "      <td>0.042395</td>\n",
       "      <td>-0.113772</td>\n",
       "      <td>-0.153253</td>\n",
       "      <td>1.000000</td>\n",
       "      <td>0.120420</td>\n",
       "    </tr>\n",
       "    <tr>\n",
       "      <th>FireEx Time</th>\n",
       "      <td>-0.001836</td>\n",
       "      <td>0.085776</td>\n",
       "      <td>0.080461</td>\n",
       "      <td>0.051381</td>\n",
       "      <td>0.071206</td>\n",
       "      <td>-0.006320</td>\n",
       "      <td>0.120420</td>\n",
       "      <td>1.000000</td>\n",
       "    </tr>\n",
       "  </tbody>\n",
       "</table>\n",
       "</div>"
      ],
      "text/plain": [
       "                           City  ZIP Code  Battalion  Station Area  \\\n",
       "City                   1.000000 -0.013861  -0.113303     -0.011077   \n",
       "ZIP Code              -0.013861  1.000000   0.508560      0.156460   \n",
       "Battalion             -0.113303  0.508560   1.000000      0.230318   \n",
       "Station Area          -0.011077  0.156460   0.230318      1.000000   \n",
       "Suppression Units     -0.020283 -0.080522  -0.140284     -0.038586   \n",
       "Suppression Personnel -0.015560 -0.125378  -0.196736     -0.075737   \n",
       "Response Time         -0.027193  0.089614   0.119219      0.042395   \n",
       "FireEx Time           -0.001836  0.085776   0.080461      0.051381   \n",
       "\n",
       "                       Suppression Units  Suppression Personnel  \\\n",
       "City                           -0.020283              -0.015560   \n",
       "ZIP Code                       -0.080522              -0.125378   \n",
       "Battalion                      -0.140284              -0.196736   \n",
       "Station Area                   -0.038586              -0.075737   \n",
       "Suppression Units               1.000000               0.946652   \n",
       "Suppression Personnel           0.946652               1.000000   \n",
       "Response Time                  -0.113772              -0.153253   \n",
       "FireEx Time                     0.071206              -0.006320   \n",
       "\n",
       "                       Response Time  FireEx Time  \n",
       "City                       -0.027193    -0.001836  \n",
       "ZIP Code                    0.089614     0.085776  \n",
       "Battalion                   0.119219     0.080461  \n",
       "Station Area                0.042395     0.051381  \n",
       "Suppression Units          -0.113772     0.071206  \n",
       "Suppression Personnel      -0.153253    -0.006320  \n",
       "Response Time               1.000000     0.120420  \n",
       "FireEx Time                 0.120420     1.000000  "
      ]
     },
     "execution_count": 140,
     "metadata": {},
     "output_type": "execute_result"
    }
   ],
   "source": [
    "for column in categorical_features:\n",
    "    df_firecalls[column]=df_firecalls[column].astype('category').cat.codes\n",
    "df_firecalls.corr()"
   ]
  },
  {
   "cell_type": "markdown",
   "metadata": {},
   "source": [
    "Where none of the features has a significant correlation value towards our target variable."
   ]
  }
 ],
 "metadata": {
  "kernelspec": {
   "display_name": "base",
   "language": "python",
   "name": "python3"
  },
  "language_info": {
   "codemirror_mode": {
    "name": "ipython",
    "version": 3
   },
   "file_extension": ".py",
   "mimetype": "text/x-python",
   "name": "python",
   "nbconvert_exporter": "python",
   "pygments_lexer": "ipython3",
   "version": "3.11.8"
  }
 },
 "nbformat": 4,
 "nbformat_minor": 2
}
